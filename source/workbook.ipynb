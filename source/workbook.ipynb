{
  "cells": [
    {
      "cell_type": "code",
      "execution_count": 5,
      "metadata": {
        "collapsed": true,
        "pycharm": {
          "is_executing": false
        }
      },
      "outputs": [],
      "source": "import numpy as np \nimport pandas as pd \nfrom matplotlib import pyplot as plt \n"
    },
    {
      "cell_type": "code",
      "execution_count": 14,
      "outputs": [],
      "source": "%matplotlib inline\ndf \u003d pd.read_csv(\u0027source/data_assignment.csv\u0027)\n",
      "metadata": {
        "pycharm": {
          "metadata": false,
          "name": "#%% load data\n",
          "is_executing": false
        }
      }
    },
    {
      "cell_type": "code",
      "execution_count": null,
      "outputs": [],
      "source": "",
      "metadata": {
        "pycharm": {
          "metadata": false,
          "name": "#%%  # Which city has more job? How many jobs each type (casual, fulltime, etc.) are there in each city?\n",
          "is_executing": true
        }
      }
    },
    {
      "cell_type": "code",
      "execution_count": 0,
      "outputs": [],
      "source": "city_most_jobs \u003d df[\u0027Location\u0027].value_counts()\n",
      "metadata": {
        "pycharm": {
          "metadata": false,
          "name": "#%%  # Which city has more job?\n",
          "is_executing": false
        }
      }
    },
    {
      "cell_type": "code",
      "execution_count": null,
      "outputs": [],
      "source": "city_by_job_type \u003d df.groupby([\u0027Location\u0027, \u0027JobType\u0027]).size()\n",
      "metadata": {
        "pycharm": {
          "metadata": false,
          "name": "#%%  # How many jobs each type (casual, fulltime, etc.) are there in each city?\n",
          "is_executing": true
        }
      }
    },
    {
      "cell_type": "code",
      "execution_count": null,
      "outputs": [],
      "source": "locations \u003d df[\u0027Location\u0027].unique()\n\nfor location in locations:\n    location_frame \u003d df[(df[\u0027Location\u0027] \u003d\u003d location)]\n    top_5 \u003d location_frame[\u0027Classification\u0027].value_counts().nlargest(5)\n    ",
      "metadata": {
        "pycharm": {
          "metadata": false,
          "name": "#%%  # In each city, which are top 5 job sectors? How many jobs are there in each sector?\n",
          "is_executing": true
        }
      }
    },
    {
      "cell_type": "code",
      "execution_count": 0,
      "outputs": [],
      "source": "for location in locations:\n    top_5_classification \u003d df[(df[\u0027Location\u0027] \u003d\u003d location)][\u0027Classification\u0027].value_counts().nlargest(5)\n\n    labels \u003d top_5_classification.index.tolist()\n    \n    fig \u003d plt.figure()\n    ax \u003d fig.add_axes([1, 1, 1, 1])\n    ax.axis(\u0027equal\u0027)\n    languages \u003d labels\n    ax.pie(top_5_classification, labels\u003dlanguages, autopct\u003d\u0027%1.2f%%\u0027)\n    plt.title(location)\n    plt.show()\n",
      "metadata": {
        "pycharm": {
          "metadata": false,
          "name": "#%%  # Visualise the top 5 job sectors in pie chart for each city.\n",
          "is_executing": false
        }
      }
    },
    {
      "cell_type": "code",
      "execution_count": null,
      "outputs": [],
      "source": "# Which city is more well-paid?\n# Which City is most well paid??????????????????\n# Which City is paid the most on average??\n\ncity_by_salary_range \u003d df.groupby([\u0027Location\u0027, \u0027LowestSalary\u0027, \u0027HighestSalary\u0027]).size()\n",
      "metadata": {
        "pycharm": {
          "metadata": false,
          "name": "#%%     # In each city, list the job salary range with the corresponding number of jobs.\n",
          "is_executing": true
        }
      }
    },
    {
      "cell_type": "code",
      "execution_count": 2,
      "outputs": [
        {
          "traceback": [
            "\u001b[1;31m---------------------------------------------------------------------------\u001b[0m",
            "\u001b[1;31mNameError\u001b[0m                                 Traceback (most recent call last)",
            "\u001b[1;32m\u003cipython-input-2-9ecdb181f5f3\u003e\u001b[0m in \u001b[0;36m\u003cmodule\u003e\u001b[1;34m\u001b[0m\n\u001b[1;32m----\u003e 1\u001b[1;33m \u001b[1;32mfor\u001b[0m \u001b[0mlocation\u001b[0m \u001b[1;32min\u001b[0m \u001b[0mlocations\u001b[0m\u001b[1;33m:\u001b[0m\u001b[1;33m\u001b[0m\u001b[1;33m\u001b[0m\u001b[0m\n\u001b[0m\u001b[0;32m      2\u001b[0m     \u001b[0mlocation_df\u001b[0m \u001b[1;33m\u003d\u001b[0m \u001b[0mframe\u001b[0m\u001b[1;33m[\u001b[0m\u001b[1;33m(\u001b[0m\u001b[0mframe\u001b[0m\u001b[1;33m[\u001b[0m\u001b[1;34m\u0027Location\u0027\u001b[0m\u001b[1;33m]\u001b[0m \u001b[1;33m\u003d\u003d\u001b[0m \u001b[0mlocation\u001b[0m\u001b[1;33m)\u001b[0m\u001b[1;33m]\u001b[0m\u001b[1;33m\u001b[0m\u001b[1;33m\u001b[0m\u001b[0m\n\u001b[0;32m      3\u001b[0m     \u001b[0mtop_companies\u001b[0m \u001b[1;33m\u003d\u001b[0m \u001b[0mlocation_df\u001b[0m\u001b[1;33m[\u001b[0m\u001b[1;34m\u0027Company\u0027\u001b[0m\u001b[1;33m]\u001b[0m\u001b[1;33m.\u001b[0m\u001b[0mvalue_counts\u001b[0m\u001b[1;33m(\u001b[0m\u001b[1;33m)\u001b[0m\u001b[1;33m.\u001b[0m\u001b[0mnlargest\u001b[0m\u001b[1;33m(\u001b[0m\u001b[1;36m5\u001b[0m\u001b[1;33m)\u001b[0m\u001b[1;33m.\u001b[0m\u001b[0mindex\u001b[0m\u001b[1;33m.\u001b[0m\u001b[0mtolist\u001b[0m\u001b[1;33m(\u001b[0m\u001b[1;33m)\u001b[0m\u001b[1;33m\u001b[0m\u001b[1;33m\u001b[0m\u001b[0m\n\u001b[0;32m      4\u001b[0m     \u001b[0mprint\u001b[0m\u001b[1;33m(\u001b[0m\u001b[0mlocation\u001b[0m\u001b[1;33m)\u001b[0m\u001b[1;33m\u001b[0m\u001b[1;33m\u001b[0m\u001b[0m\n\u001b[0;32m      5\u001b[0m     \u001b[1;32mfor\u001b[0m \u001b[0mindex\u001b[0m\u001b[1;33m,\u001b[0m \u001b[0mrow\u001b[0m \u001b[1;32min\u001b[0m \u001b[0mlocation_df\u001b[0m\u001b[1;33m.\u001b[0m\u001b[0miterrows\u001b[0m\u001b[1;33m(\u001b[0m\u001b[1;33m)\u001b[0m\u001b[1;33m:\u001b[0m\u001b[1;33m\u001b[0m\u001b[1;33m\u001b[0m\u001b[0m\n",
            "\u001b[1;31mNameError\u001b[0m: name \u0027locations\u0027 is not defined"
          ],
          "ename": "NameError",
          "evalue": "name \u0027locations\u0027 is not defined",
          "output_type": "error"
        }
      ],
      "source": "for location in locations:\n    location_df \u003d frame[(frame[\u0027Location\u0027] \u003d\u003d location)]\n    top_companies \u003d location_df[\u0027Company\u0027].value_counts().nlargest(5).index.tolist()\n    print(location)\n    for index, row in location_df.iterrows():\n        if row[\u0027Company\u0027] in top_companies:\n            print(f\"{row[\u0027Company\u0027]} | {row[\u0027Classification\u0027]}\")\n            top_companies.remove(row[\u0027Company\u0027])\n    print(\u0027\\n\u0027)\n",
      "metadata": {
        "pycharm": {
          "metadata": false,
          "name": "#%%     # List top 5 companies in each city? Which sectors do they belong to?\n",
          "is_executing": false
        }
      }
    },
    {
      "cell_type": "code",
      "execution_count": null,
      "outputs": [],
      "source": "",
      "metadata": {
        "pycharm": {
          "metadata": false,
          "name": "#%%  # Between 2 cities, which do you think it is better for employees. Explain your choice.* (1.5 point)\n"
        }
      }
    }
  ],
  "metadata": {
    "language_info": {
      "codemirror_mode": {
        "name": "ipython",
        "version": 2
      },
      "file_extension": ".py",
      "mimetype": "text/x-python",
      "name": "python",
      "nbconvert_exporter": "python",
      "pygments_lexer": "ipython2",
      "version": "2.7.6"
    },
    "kernelspec": {
      "name": "python3",
      "language": "python",
      "display_name": "Python 3"
    },
    "stem_cell": {
      "cell_type": "raw",
      "source": "",
      "metadata": {
        "pycharm": {
          "metadata": false
        }
      }
    }
  },
  "nbformat": 4,
  "nbformat_minor": 0
}