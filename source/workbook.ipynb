{
 "cells": [
  {
   "cell_type": "code",
   "execution_count": 1,
   "metadata": {
    "pycharm": {
     "is_executing": false
    }
   },
   "outputs": [],
   "source": [
    "import numpy as np \n",
    "import pandas as pd \n",
    "from matplotlib import pyplot as plt \n"
   ]
  },
  {
   "cell_type": "code",
   "execution_count": 2,
   "metadata": {
    "pycharm": {
     "is_executing": false,
     "metadata": false,
     "name": "#%% load data\n"
    }
   },
   "outputs": [],
   "source": [
    "%matplotlib inline\n",
    "df = pd.read_csv('data_assignment.csv')\n",
    "\n",
    "# Which city has the most jobs? How many jobs each type (casual, fulltime, etc.) are there in each city?"
   ]
  },
  {
   "cell_type": "code",
   "execution_count": null,
   "metadata": {
    "pycharm": {
     "is_executing": false,
     "metadata": false,
     "name": "#%%  # Which city has more job?\n"
    }
   },
   "outputs": [],
   "source": [
    "city_most_jobs = df['Location'].value_counts()\n",
    "city_most_jobs\n"
   ]
  },
  {
   "cell_type": "code",
   "execution_count": null,
   "metadata": {
    "pycharm": {
     "is_executing": false,
     "metadata": false,
     "name": "#%%  # How many jobs each type (casual, fulltime, etc.) are there in each city?\n"
    }
   },
   "outputs": [],
   "source": [
    "city_by_job_type = df.groupby(['Location', 'JobType']).size()\n",
    "city_by_job_type\n"
   ]
  },
  {
   "cell_type": "code",
   "execution_count": null,
   "metadata": {
    "pycharm": {
     "is_executing": false,
     "metadata": false,
     "name": "#%%  # In each city, which are top 5 job sectors? How many jobs are there in each sector?\n"
    }
   },
   "outputs": [],
   "source": [
    "locations = df['Location'].unique()\n",
    "top_5 = ''\n",
    "for location in locations:\n",
    "    location_frame = df[(df['Location'] == location)]\n",
    "    top_5 = location_frame['Classification'].value_counts().nlargest(5)\n",
    "top_5\n",
    "    "
   ]
  },
  {
   "cell_type": "code",
   "execution_count": null,
   "metadata": {
    "pycharm": {
     "is_executing": false,
     "metadata": false,
     "name": "#%%  # Visualise the top 5 job sectors in pie chart for each city.\n"
    }
   },
   "outputs": [],
   "source": [
    "for location in locations:\n",
    "    top_5_classification = df[(df['Location'] == location)]['Classification'].value_counts().nlargest(5)\n",
    "\n",
    "    labels = top_5_classification.index.tolist()\n",
    "    \n",
    "    fig = plt.figure()\n",
    "    ax = fig.add_axes([1, 1, 1, 1])\n",
    "    ax.axis('equal')\n",
    "    languages = labels\n",
    "    ax.pie(top_5_classification, labels=languages, autopct='%1.2f%%')\n",
    "    plt.title(location)\n",
    "    plt.show()\n"
   ]
  },
  {
   "cell_type": "code",
   "execution_count": null,
   "metadata": {
    "pycharm": {
     "is_executing": false,
     "metadata": false,
     "name": "#%%     # In each city, list the job salary range with the corresponding number of jobs.\n"
    }
   },
   "outputs": [],
   "source": [
    "# Which city is more well-paid?\n",
    "# Which City is most well paid??????????????????\n",
    "# Which City is paid the most on average??\n",
    "\n",
    "city_by_salary_range = df.groupby(['Location', 'LowestSalary', 'HighestSalary']).size()\n",
    "city_by_salary_range\n"
   ]
  },
  {
   "cell_type": "code",
   "execution_count": null,
   "metadata": {
    "pycharm": {
     "is_executing": false,
     "metadata": false,
     "name": "#%%     # List top 5 companies in each city? Which sectors do they belong to?\n"
    }
   },
   "outputs": [],
   "source": [
    "for location in locations:\n",
    "    location_df = df[(df['Location'] == location)]\n",
    "    top_companies = location_df['Company'].value_counts().nlargest(5).index.tolist()\n",
    "    print(location)\n",
    "    for index, row in location_df.iterrows():\n",
    "        if row['Company'] in top_companies:\n",
    "            print(f\"{row['Company']} | {row['Classification']}\")\n",
    "            top_companies.remove(row['Company'])\n",
    "    print('\\n')\n"
   ]
  },
  {
   "cell_type": "code",
   "execution_count": null,
   "metadata": {
    "pycharm": {
     "is_executing": false,
     "metadata": false,
     "name": "#%%  # Between 2 cities, which do you think is better for employees. Explain your choice.\n"
    }
   },
   "outputs": [],
   "source": [
    "brisbane_df = df[(df['Location'] == 'Brisbane')]\n",
    "sydney_df = df[(df['Location'] == 'Sydney')]"
   ]
  },
  {
   "cell_type": "code",
   "execution_count": null,
   "metadata": {
    "pycharm": {
     "metadata": false,
     "name": "#%%\n"
    }
   },
   "outputs": [],
   "source": [
    "#2. Analyse by time. (7 points)"
   ]
  },
  {
   "cell_type": "code",
   "execution_count": 16,
   "metadata": {},
   "outputs": [],
   "source": [
    "#Visualise the number of job posts by month. (1 point)"
   ]
  },
  {
   "cell_type": "code",
   "execution_count": 29,
   "metadata": {},
   "outputs": [
    {
     "data": {
      "image/png": "[encoded data removed]",
      "text/plain": [
       "<Figure size 432x288 with 1 Axes>"
      ]
     },
     "metadata": {
      "needs_background": "light"
     },
     "output_type": "display_data"
    }
   ],
   "source": [
    "month_count = {}  \n",
    "\n",
    "for index, col in df.iterrows(): \n",
    "    month = col['Date'].split('-')[1]\n",
    "    \n",
    "    if month in month_count:\n",
    "        month_count[month] += 1\n",
    "    else:\n",
    "        month_count[month] = 1\n",
    "\n",
    "months = ['October','November']\n",
    "plt.bar(range(len(month_count)),month_count.values(),tick_label=months)\n",
    "plt.show()"
   ]
  },
  {
   "cell_type": "code",
   "execution_count": 59,
   "metadata": {},
   "outputs": [
    {
     "data": {
      "image/png": "[encoded data removed]",
      "text/plain": [
       "<Figure size 432x288 with 1 Axes>"
      ]
     },
     "metadata": {
      "needs_background": "light"
     },
     "output_type": "display_data"
    }
   ],
   "source": [
    "#Visualise the number of job posts by day of week\n",
    "from datetime import datetime\n",
    "\n",
    "\n",
    "def fix_date(date):\n",
    "    return date[:10]\n",
    "\n",
    "df['Date'] = df['Date'].apply(fix_date)\n",
    "\n",
    "\n",
    "day_count = {}  \n",
    "\n",
    "for index, col in df.iterrows(): \n",
    "    year = int(col['Date'].split('-')[0])\n",
    "    month = int(col['Date'].split('-')[1])\n",
    "    day = int(col['Date'].split('-')[2])\n",
    "    \n",
    "    week_day = datetime(year, month, day).strftime('%A')\n",
    "\n",
    "    if week_day in day_count:\n",
    "        day_count[week_day] += 1\n",
    "    else:\n",
    "        day_count[week_day] = 1\n",
    "        \n",
    "\n",
    "\n",
    "days = ['Mon','Tue','Wed','Thur','Fri','Sat','Sun']\n",
    "day_values = [day_count['Monday'],day_count['Tuesday'],day_count['Wednesday'],day_count['Thursday'],day_count['Friday'],day_count['Saturday'],day_count['Sunday']]\n",
    "\n",
    "plt.bar(range(len(days)),day_values,tick_label=days)\n",
    "plt.show()\n"
   ]
  },
  {
   "cell_type": "code",
   "execution_count": 81,
   "metadata": {},
   "outputs": [
    {
     "data": {
      "text/plain": [
       "<BarContainer object of 31 artists>"
      ]
     },
     "execution_count": 81,
     "metadata": {},
     "output_type": "execute_result"
    },
    {
     "data": {
      "image/png": "[encoded data removed]",
      "text/plain": [
       "<Figure size 936x288 with 1 Axes>"
      ]
     },
     "metadata": {
      "needs_background": "light"
     },
     "output_type": "display_data"
    }
   ],
   "source": [
    "#Visualise the number of job posts by day of the month.\n",
    "month_date = {}  \n",
    "\n",
    "for index, col in df.iterrows(): \n",
    "    day = int(col['Date'].split('-')[2])\n",
    "    \n",
    "    if day in month_date:\n",
    "        month_date[day] += 1\n",
    "    else:\n",
    "        month_date[day] = 1\n",
    "\n",
    "sorted_month_date = dict(sorted(month_date.items()))\n",
    "month_days = list(data.keys())\n",
    "\n",
    "\n",
    "plt.figure(figsize=(13, 4))  \n",
    "plt.bar(range(len(sorted_month_date)), sorted_month_date.values(),tick_label=month_days, width=0.5)"
   ]
  },
  {
   "cell_type": "code",
   "execution_count": null,
   "metadata": {},
   "outputs": [],
   "source": [
    "#Visualise trending of the job postings for the big cities."
   ]
  }
 ],
 "metadata": {
  "kernelspec": {
   "display_name": "Python 3",
   "language": "python",
   "name": "python3"
  },
  "language_info": {
   "codemirror_mode": {
    "name": "ipython",
    "version": 3
   },
   "file_extension": ".py",
   "mimetype": "text/x-python",
   "name": "python",
   "nbconvert_exporter": "python",
   "pygments_lexer": "ipython3",
   "version": "3.7.6"
  },
  "stem_cell": {
   "cell_type": "raw",
   "metadata": {
    "pycharm": {
     "metadata": false
    }
   },
   "source": ""
  }
 },
 "nbformat": 4,
 "nbformat_minor": 1
}
